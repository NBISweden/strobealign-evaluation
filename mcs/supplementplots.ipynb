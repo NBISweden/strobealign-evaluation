{
 "cells": [
  {
   "cell_type": "markdown",
   "id": "6f05d0ae",
   "metadata": {},
   "source": [
    "# \"Highlight\" plots for the MCS paper\n",
    "\n",
    "These plots are used in the supplement. They show accuracy and runtime for CHM13 on paired-end reads. One version is generated for comparing strobealign to X-Mapper and one for comparing strobalign MCS to the MCS-R variant, which uses a different method of seed rescue."
   ]
  },
  {
   "cell_type": "code",
   "execution_count": null,
   "id": "74e14b99",
   "metadata": {},
   "outputs": [],
   "source": [
    "import matplotlib.pyplot as plt\n",
    "import seaborn as sns\n",
    "import pandas as pd"
   ]
  },
  {
   "cell_type": "code",
   "execution_count": null,
   "id": "664bd291",
   "metadata": {},
   "outputs": [],
   "source": [
    "import plots"
   ]
  },
  {
   "cell_type": "code",
   "execution_count": null,
   "id": "fc553281",
   "metadata": {},
   "outputs": [],
   "source": [
    "sns.set(font_scale=1.4)\n",
    "sns.set_style(\"whitegrid\")"
   ]
  },
  {
   "cell_type": "code",
   "execution_count": null,
   "id": "df57df65",
   "metadata": {},
   "outputs": [],
   "source": [
    "table = pd.read_csv(\"result-pre.csv\")\n",
    "table.head()"
   ]
  },
  {
   "cell_type": "code",
   "execution_count": null,
   "id": "d27416c1",
   "metadata": {},
   "outputs": [],
   "source": [
    "palette, read_lengths, tools = plots.configure(\"config.yaml\")"
   ]
  },
  {
   "cell_type": "code",
   "execution_count": null,
   "id": "38ca8ee2",
   "metadata": {},
   "outputs": [],
   "source": [
    "def plot_accuracy_and_time(table, prefix, tools):\n",
    "    xlim = (40, 510)\n",
    "    linewidth = 3\n",
    "\n",
    "    table = table[table[\"ends\"] == \"pe\"]\n",
    "    table = table[table[\"genome\"] == \"CHM13\"]\n",
    "    title = \"Paired-end reads\"\n",
    "    for y, label, logscale in [\n",
    "        (\"accuracy\", \"Accuracy (%)\", False),\n",
    "        (\"time\", \"Time (sec)\", True),\n",
    "    ]:\n",
    "        fig = plots.plot(\n",
    "            table,\n",
    "            palette,\n",
    "            tools,\n",
    "            read_lengths,\n",
    "            y=y,\n",
    "            logscale=logscale,\n",
    "            row=\"genome\",\n",
    "            label=label,\n",
    "            xlim=xlim,\n",
    "            title=title,\n",
    "            linewidth=linewidth,\n",
    "        )\n",
    "        fig.savefig(f\"{prefix}-CHM13-{y}.pdf\")"
   ]
  },
  {
   "cell_type": "code",
   "execution_count": null,
   "id": "0b9efb2e",
   "metadata": {},
   "outputs": [],
   "source": [
    "plot_accuracy_and_time(table, \"xmapper\", tools={\"xmapper\": \"X-Mapper\", \"strobealign-mcs-022a721\": \"strobealign MCS\"})"
   ]
  },
  {
   "cell_type": "code",
   "execution_count": null,
   "id": "9d593911",
   "metadata": {},
   "outputs": [],
   "source": [
    "plot_accuracy_and_time(table, \"mcsr\", tools={\"strobealign-0.14.0\": \"strobealign 0.14.0\", \"strobealign-mcs-022a721\": \"strobealign MCS\", \"strobealign-mcs-feed434\": \"strobealign MCS-R\"})"
   ]
  }
 ],
 "metadata": {
  "kernelspec": {
   "display_name": "Python 3 (ipykernel)",
   "language": "python",
   "name": "python3"
  },
  "language_info": {
   "codemirror_mode": {
    "name": "ipython",
    "version": 3
   },
   "file_extension": ".py",
   "mimetype": "text/x-python",
   "name": "python",
   "nbconvert_exporter": "python",
   "pygments_lexer": "ipython3",
   "version": "3.11.0"
  }
 },
 "nbformat": 4,
 "nbformat_minor": 5
}
